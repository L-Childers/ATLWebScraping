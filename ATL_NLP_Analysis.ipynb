{
 "cells": [
  {
   "cell_type": "code",
   "execution_count": 171,
   "metadata": {},
   "outputs": [],
   "source": [
    "import nltk\n",
    "import pandas as pd\n",
    "from textblob import TextBlob\n",
    "import os\n",
    "import numpy as np\n",
    "from os import path\n",
    "from PIL import Image\n",
    "import re"
   ]
  },
  {
   "cell_type": "code",
   "execution_count": 172,
   "metadata": {},
   "outputs": [],
   "source": [
    "#import scraped articles\n",
    "df = pd.read_csv('abovethelaw_articles.csv')"
   ]
  },
  {
   "cell_type": "code",
   "execution_count": 173,
   "metadata": {},
   "outputs": [
    {
     "data": {
      "text/plain": [
       "(3490, 7)"
      ]
     },
     "execution_count": 173,
     "metadata": {},
     "output_type": "execute_result"
    }
   ],
   "source": [
    "#perform quick anlysis\n",
    "df.shape"
   ]
  },
  {
   "cell_type": "code",
   "execution_count": 174,
   "metadata": {},
   "outputs": [
    {
     "data": {
      "text/plain": [
       "Unnamed: 0       int64\n",
       "author          object\n",
       "publish_date    object\n",
       "sub_title       object\n",
       "summary         object\n",
       "tags            object\n",
       "title           object\n",
       "dtype: object"
      ]
     },
     "execution_count": 174,
     "metadata": {},
     "output_type": "execute_result"
    }
   ],
   "source": [
    "df.dtypes"
   ]
  },
  {
   "cell_type": "code",
   "execution_count": 175,
   "metadata": {},
   "outputs": [
    {
     "name": "stdout",
     "output_type": "stream",
     "text": [
      "<class 'pandas.core.frame.DataFrame'>\n",
      "RangeIndex: 3490 entries, 0 to 3489\n",
      "Data columns (total 7 columns):\n",
      "Unnamed: 0      3490 non-null int64\n",
      "author          3490 non-null object\n",
      "publish_date    2544 non-null object\n",
      "sub_title       3489 non-null object\n",
      "summary         3220 non-null object\n",
      "tags            3487 non-null object\n",
      "title           3490 non-null object\n",
      "dtypes: int64(1), object(6)\n",
      "memory usage: 190.9+ KB\n"
     ]
    }
   ],
   "source": [
    "df.info()"
   ]
  },
  {
   "cell_type": "code",
   "execution_count": 176,
   "metadata": {},
   "outputs": [
    {
     "data": {
      "text/html": [
       "<div>\n",
       "<style scoped>\n",
       "    .dataframe tbody tr th:only-of-type {\n",
       "        vertical-align: middle;\n",
       "    }\n",
       "\n",
       "    .dataframe tbody tr th {\n",
       "        vertical-align: top;\n",
       "    }\n",
       "\n",
       "    .dataframe thead th {\n",
       "        text-align: right;\n",
       "    }\n",
       "</style>\n",
       "<table border=\"1\" class=\"dataframe\">\n",
       "  <thead>\n",
       "    <tr style=\"text-align: right;\">\n",
       "      <th></th>\n",
       "      <th>Unnamed: 0</th>\n",
       "      <th>author</th>\n",
       "      <th>publish_date</th>\n",
       "      <th>sub_title</th>\n",
       "      <th>summary</th>\n",
       "      <th>tags</th>\n",
       "      <th>title</th>\n",
       "    </tr>\n",
       "  </thead>\n",
       "  <tbody>\n",
       "    <tr>\n",
       "      <th>568</th>\n",
       "      <td>569</td>\n",
       "      <td>Joe Patrice</td>\n",
       "      <td>NaN</td>\n",
       "      <td>* Alabama fan allegedly shot despicable fronts...</td>\n",
       "      <td>* Alabama fan allegedly shot despicable front ...</td>\n",
       "      <td>Americans with Disabilities Act,Auburn,Barack ...</td>\n",
       "      <td>Non-Sequiturs: 12.03.13</td>\n",
       "    </tr>\n",
       "    <tr>\n",
       "      <th>3087</th>\n",
       "      <td>3088</td>\n",
       "      <td>Kathryn Rubino</td>\n",
       "      <td>Nov 10, 2017</td>\n",
       "      <td>Congratulations are in order.</td>\n",
       "      <td>Tuesday was Election Day — the first since Don...</td>\n",
       "      <td>Biglaw,Election Day,Jenny Durkin,Justin Fairfa...</td>\n",
       "      <td>The Biglaw Attorneys Who Won Big On Election N...</td>\n",
       "    </tr>\n",
       "    <tr>\n",
       "      <th>218</th>\n",
       "      <td>219</td>\n",
       "      <td>Kathryn Rubino</td>\n",
       "      <td>Dec 21, 2017</td>\n",
       "      <td>A fully paid, gender-neutral parental leave po...</td>\n",
       "      <td>In what is becoming a, yet another firm has ma...</td>\n",
       "      <td>Biglaw,Parental Leave,Skadden Arps,The Jabot</td>\n",
       "      <td>Biglaw Firm Gets With The Times And Makes Big ...</td>\n",
       "    </tr>\n",
       "    <tr>\n",
       "      <th>1396</th>\n",
       "      <td>1397</td>\n",
       "      <td>Mark Herrmann</td>\n",
       "      <td>Sep 29, 2014</td>\n",
       "      <td>What questions should clients ask during beaut...</td>\n",
       "      <td>How do you think we pick lawyers to defend us ...</td>\n",
       "      <td>Advice,Beauty Contests,Biglaw,In-House Counsel...</td>\n",
       "      <td>How Corporations Actually Choose Outside Counsel</td>\n",
       "    </tr>\n",
       "    <tr>\n",
       "      <th>3401</th>\n",
       "      <td>3402</td>\n",
       "      <td>Staci Zaretsky</td>\n",
       "      <td>Jul 23, 2018</td>\n",
       "      <td>Did everyone at your firm receive an offer? Le...</td>\n",
       "      <td>We’ve had an incredibly slow season in terms o...</td>\n",
       "      <td>Biglaw,Cold Offers,Law Schools,Law Students,No...</td>\n",
       "      <td>Summer Associate Offer Rates (2018): Which Fir...</td>\n",
       "    </tr>\n",
       "    <tr>\n",
       "      <th>707</th>\n",
       "      <td>708</td>\n",
       "      <td>Staci Zaretsky</td>\n",
       "      <td>NaN</td>\n",
       "      <td>You'll want to keep reading, because this is t...</td>\n",
       "      <td>About two years ago, in May 2012,  filed for b...</td>\n",
       "      <td>Biglaw,Canada,Dissolution,DLA Piper,Heenan Bla...</td>\n",
       "      <td>Another ‘Storied’ Biglaw Firm Fails, Inciting ...</td>\n",
       "    </tr>\n",
       "    <tr>\n",
       "      <th>3262</th>\n",
       "      <td>3263</td>\n",
       "      <td>Kathryn Rubino</td>\n",
       "      <td>Aug 20, 2018</td>\n",
       "      <td>The judge denied the defense's request for no ...</td>\n",
       "      <td>On Friday, Eastern District of New York Distri...</td>\n",
       "      <td>Biglaw,Evan Greebel,Katten Muchin Rosenman,Kay...</td>\n",
       "      <td>Former Biglaw Partner Gets 18 Months In Prison...</td>\n",
       "    </tr>\n",
       "    <tr>\n",
       "      <th>2743</th>\n",
       "      <td>2744</td>\n",
       "      <td>Joe Patrice</td>\n",
       "      <td>May 16, 2017</td>\n",
       "      <td>Reportedly around 40 attorneys are being laid ...</td>\n",
       "      <td>Law firms may be giving off a sense of “cautio...</td>\n",
       "      <td>2016 Associate Salary Increase,Biglaw,Layoffs,...</td>\n",
       "      <td>HUGE LAYOFF REPORT: Biglaw Firm Lays Off Assoc...</td>\n",
       "    </tr>\n",
       "    <tr>\n",
       "      <th>3471</th>\n",
       "      <td>3472</td>\n",
       "      <td>Staci Zaretsky</td>\n",
       "      <td>Jun 28, 2018</td>\n",
       "      <td>Size matters in the legal profession.</td>\n",
       "      <td>There are many different and exciting ways to ...</td>\n",
       "      <td>Biglaw,NLJ 500,Rankings</td>\n",
       "      <td>The 500 Largest Law Firms In America (2018)</td>\n",
       "    </tr>\n",
       "    <tr>\n",
       "      <th>2373</th>\n",
       "      <td>2374</td>\n",
       "      <td>Kathryn Rubino</td>\n",
       "      <td>Oct 14, 2016</td>\n",
       "      <td>It looks like the Biglaw firm might be right.</td>\n",
       "      <td>Traci Ribeiro may not get her day in court. Th...</td>\n",
       "      <td>Biglaw,Employment law,Gender Discrimination,Pa...</td>\n",
       "      <td>Judge Really Bummed Biglaw Discrimination Suit...</td>\n",
       "    </tr>\n",
       "  </tbody>\n",
       "</table>\n",
       "</div>"
      ],
      "text/plain": [
       "      Unnamed: 0          author  publish_date  \\\n",
       "568          569     Joe Patrice           NaN   \n",
       "3087        3088  Kathryn Rubino  Nov 10, 2017   \n",
       "218          219  Kathryn Rubino  Dec 21, 2017   \n",
       "1396        1397   Mark Herrmann  Sep 29, 2014   \n",
       "3401        3402  Staci Zaretsky  Jul 23, 2018   \n",
       "707          708  Staci Zaretsky           NaN   \n",
       "3262        3263  Kathryn Rubino  Aug 20, 2018   \n",
       "2743        2744     Joe Patrice  May 16, 2017   \n",
       "3471        3472  Staci Zaretsky  Jun 28, 2018   \n",
       "2373        2374  Kathryn Rubino  Oct 14, 2016   \n",
       "\n",
       "                                              sub_title  \\\n",
       "568   * Alabama fan allegedly shot despicable fronts...   \n",
       "3087                      Congratulations are in order.   \n",
       "218   A fully paid, gender-neutral parental leave po...   \n",
       "1396  What questions should clients ask during beaut...   \n",
       "3401  Did everyone at your firm receive an offer? Le...   \n",
       "707   You'll want to keep reading, because this is t...   \n",
       "3262  The judge denied the defense's request for no ...   \n",
       "2743  Reportedly around 40 attorneys are being laid ...   \n",
       "3471              Size matters in the legal profession.   \n",
       "2373      It looks like the Biglaw firm might be right.   \n",
       "\n",
       "                                                summary  \\\n",
       "568   * Alabama fan allegedly shot despicable front ...   \n",
       "3087  Tuesday was Election Day — the first since Don...   \n",
       "218   In what is becoming a, yet another firm has ma...   \n",
       "1396  How do you think we pick lawyers to defend us ...   \n",
       "3401  We’ve had an incredibly slow season in terms o...   \n",
       "707   About two years ago, in May 2012,  filed for b...   \n",
       "3262  On Friday, Eastern District of New York Distri...   \n",
       "2743  Law firms may be giving off a sense of “cautio...   \n",
       "3471  There are many different and exciting ways to ...   \n",
       "2373  Traci Ribeiro may not get her day in court. Th...   \n",
       "\n",
       "                                                   tags  \\\n",
       "568   Americans with Disabilities Act,Auburn,Barack ...   \n",
       "3087  Biglaw,Election Day,Jenny Durkin,Justin Fairfa...   \n",
       "218        Biglaw,Parental Leave,Skadden Arps,The Jabot   \n",
       "1396  Advice,Beauty Contests,Biglaw,In-House Counsel...   \n",
       "3401  Biglaw,Cold Offers,Law Schools,Law Students,No...   \n",
       "707   Biglaw,Canada,Dissolution,DLA Piper,Heenan Bla...   \n",
       "3262  Biglaw,Evan Greebel,Katten Muchin Rosenman,Kay...   \n",
       "2743  2016 Associate Salary Increase,Biglaw,Layoffs,...   \n",
       "3471                            Biglaw,NLJ 500,Rankings   \n",
       "2373  Biglaw,Employment law,Gender Discrimination,Pa...   \n",
       "\n",
       "                                                  title  \n",
       "568                             Non-Sequiturs: 12.03.13  \n",
       "3087  The Biglaw Attorneys Who Won Big On Election N...  \n",
       "218   Biglaw Firm Gets With The Times And Makes Big ...  \n",
       "1396   How Corporations Actually Choose Outside Counsel  \n",
       "3401  Summer Associate Offer Rates (2018): Which Fir...  \n",
       "707   Another ‘Storied’ Biglaw Firm Fails, Inciting ...  \n",
       "3262  Former Biglaw Partner Gets 18 Months In Prison...  \n",
       "2743  HUGE LAYOFF REPORT: Biglaw Firm Lays Off Assoc...  \n",
       "3471        The 500 Largest Law Firms In America (2018)  \n",
       "2373  Judge Really Bummed Biglaw Discrimination Suit...  "
      ]
     },
     "execution_count": 176,
     "metadata": {},
     "output_type": "execute_result"
    }
   ],
   "source": [
    "df.sample(10)"
   ]
  },
  {
   "cell_type": "code",
   "execution_count": 177,
   "metadata": {},
   "outputs": [],
   "source": [
    "# Fill na with empty string\n",
    "df['summary'] = df['summary'].fillna('')"
   ]
  },
  {
   "cell_type": "code",
   "execution_count": 178,
   "metadata": {},
   "outputs": [],
   "source": [
    "# Combine title and summary cols into summary\n",
    "df['summary'] = df['title'] + ' ' + df['summary']"
   ]
  },
  {
   "cell_type": "code",
   "execution_count": 180,
   "metadata": {},
   "outputs": [],
   "source": [
    "# Convert all the string to lower cases\n",
    "df['summary'] = df['summary'].str.lower()\n",
    "# Remove any URLs in summary col\n",
    "df['summary'] = df['summary'].apply(lambda x: re.sub('http\\S*', '', x))\n",
    "# Remove empty space in summary col\n",
    "df['summary'] = df['summary'].apply(lambda x: re.sub('\\s+', ' ', x))\n",
    "# Remove all rows that are empty\n",
    "df = df.loc[df['summary'] != \"\"]\n",
    "# Remove punctuation\n",
    "df['summary'] = df['summary'].apply(lambda x: re.sub('[^\\w\\s]', '', x))"
   ]
  },
  {
   "cell_type": "code",
   "execution_count": 199,
   "metadata": {},
   "outputs": [],
   "source": [
    "from nltk.corpus import stopwords\n",
    "stop = stopwords.words('english')"
   ]
  },
  {
   "cell_type": "code",
   "execution_count": 184,
   "metadata": {},
   "outputs": [],
   "source": [
    "from wordcloud import WordCloud"
   ]
  },
  {
   "cell_type": "code",
   "execution_count": 189,
   "metadata": {},
   "outputs": [],
   "source": [
    "# Import balance jpg for word cloud\n",
    "d = path.dirname(__file__) if \"__file__\" in locals() else os.getcwd()\n",
    "scale_mask = np.array(Image.open(path.join(d, \"weight-balance.jpg\")))"
   ]
  },
  {
   "cell_type": "code",
   "execution_count": 190,
   "metadata": {},
   "outputs": [
    {
     "data": {
      "text/plain": [
       "<wordcloud.wordcloud.WordCloud at 0x1a2d781c18>"
      ]
     },
     "execution_count": 190,
     "metadata": {},
     "output_type": "execute_result"
    }
   ],
   "source": [
    "wc = WordCloud(background_color=\"white\", max_words=2000, mask=scale_mask, max_font_size=300, random_state=42)\n",
    "# generate word cloud\n",
    "wc.generate(''.join(df['summary']))\n",
    "# export word cloud to png file\n",
    "wc.to_file(\"outputs/balance.png\")"
   ]
  },
  {
   "cell_type": "code",
   "execution_count": 192,
   "metadata": {},
   "outputs": [],
   "source": [
    "# Run sentiment analysis and save to csv for R analysis \n",
    "\n",
    "def sentiment_func(x):\n",
    "    sentiment = TextBlob(x['summary'])\n",
    "    x['polarity'] = sentiment.polarity\n",
    "    x['subjectivity'] = sentiment.subjectivity\n",
    "    return x\n",
    "\n",
    "sample = df.apply(sentiment_func, axis=1).to_csv('outputs/abovethelaw_sentiment.csv',index=False)"
   ]
  },
  {
   "cell_type": "code",
   "execution_count": 194,
   "metadata": {},
   "outputs": [],
   "source": [
    "# preprosessing for tags column\n",
    "df['tags'] = df['tags'].fillna('')\n",
    "# Convert all the string to lower cases\n",
    "df['tags'] = df['tags'].str.lower()\n",
    "# Remove any URLs in summary col\n",
    "df['tags'] = df['tags'].apply(lambda x: re.sub('http\\S*', '', x))\n",
    "# Remove empty space in summary col\n",
    "df['tags'] = df['tags'].apply(lambda x: re.sub('\\s+', ' ', x))\n",
    "# Remove all rows that are empty\n",
    "df = df.loc[df['tags'] != \"\"]\n",
    "# Remove punctuation\n",
    "df['tags'] = df['tags'].apply(lambda x: re.sub('[^\\w\\s]', '  ', x))"
   ]
  },
  {
   "cell_type": "code",
   "execution_count": 198,
   "metadata": {},
   "outputs": [
    {
     "data": {
      "text/plain": [
       "<wordcloud.wordcloud.WordCloud at 0x1a24f1ddd8>"
      ]
     },
     "execution_count": 198,
     "metadata": {},
     "output_type": "execute_result"
    }
   ],
   "source": [
    "# Import tag icon for word cloud\n",
    "d_ = path.dirname(__file__) if \"__file__\" in locals() else os.getcwd()\n",
    "scale_mask = np.array(Image.open(path.join(d_, \"tag_icon.jpg\")))\n",
    "\n",
    "wc = WordCloud(background_color=\"white\", max_words=2000, mask=scale_mask, max_font_size=300, random_state=42)\n",
    "# generate word cloud\n",
    "wc.generate(''.join(df['tags']))\n",
    "# save word cloud to png\n",
    "wc.to_file(\"outputs/tag.png\")"
   ]
  }
 ],
 "metadata": {
  "kernelspec": {
   "display_name": "Python 3",
   "language": "python",
   "name": "python3"
  },
  "language_info": {
   "codemirror_mode": {
    "name": "ipython",
    "version": 3
   },
   "file_extension": ".py",
   "mimetype": "text/x-python",
   "name": "python",
   "nbconvert_exporter": "python",
   "pygments_lexer": "ipython3",
   "version": "3.7.0"
  }
 },
 "nbformat": 4,
 "nbformat_minor": 2
}
